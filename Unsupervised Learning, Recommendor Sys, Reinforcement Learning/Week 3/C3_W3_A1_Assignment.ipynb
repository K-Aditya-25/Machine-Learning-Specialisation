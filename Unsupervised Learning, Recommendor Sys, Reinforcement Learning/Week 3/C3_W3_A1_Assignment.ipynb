{
 "cells": [
  {
   "cell_type": "markdown",
   "metadata": {},
   "source": [
    "# Deep Q-Learning - Lunar Lander\n",
    "\n",
    "In this assignment, you will train an agent to land a lunar lander safely on a landing pad on the surface of the moon.\n",
    "\n",
    "\n",
    "# Outline\n",
    "- [ 1 - Import Packages <img align=\"Right\" src=\"./images/lunar_lander.gif\" width = 60% >](#1)\n",
    "- [ 2 - Hyperparameters](#2)\n",
    "- [ 3 - The Lunar Lander Environment](#3)\n",
    "  - [ 3.1 Action Space](#3.1)\n",
    "  - [ 3.2 Observation Space](#3.2)\n",
    "  - [ 3.3 Rewards](#3.3)\n",
    "  - [ 3.4 Episode Termination](#3.4)\n",
    "- [ 4 - Load the Environment](#4)\n",
    "- [ 5 - Interacting with the Gym Environment](#5)\n",
    "    - [ 5.1 Exploring the Environment's Dynamics](#5.1)\n",
    "- [ 6 - Deep Q-Learning](#6)\n",
    "  - [ 6.1 Target Network](#6.1)\n",
    "    - [ Exercise 1](#ex01)\n",
    "  - [ 6.2 Experience Replay](#6.2)\n",
    "- [ 7 - Deep Q-Learning Algorithm with Experience Replay](#7)\n",
    "  - [ Exercise 2](#ex02)\n",
    "- [ 8 - Update the Network Weights](#8)\n",
    "- [ 9 - Train the Agent](#9)\n",
    "- [ 10 - See the Trained Agent In Action](#10)\n",
    "- [ 11 - Congratulations!](#11)\n",
    "- [ 12 - References](#12)\n"
   ]
  },
  {
   "cell_type": "markdown",
   "metadata": {},
   "source": [
    "_**NOTE:** To prevent errors from the autograder, you are not allowed to edit or delete non-graded cells in this lab. Please also refrain from adding any new cells. \n",
    "**Once you have passed this assignment** and want to experiment with any of the non-graded code, you may follow the instructions at the bottom of this notebook._"
   ]
  },
  {
   "cell_type": "markdown",
   "metadata": {},
   "source": [
    "<a name=\"1\"></a>\n",
    "## 1 - Import Packages\n",
    "\n",
    "We'll make use of the following packages:\n",
    "- `numpy` is a package for scientific computing in python.\n",
    "- `deque` will be our data structure for our memory buffer.\n",
    "- `namedtuple` will be used to store the experience tuples.\n",
    "- The `gym` toolkit is a collection of environments that can be used to test reinforcement learning algorithms. We should note that in this notebook we are using `gym` version `0.24.0`.\n",
    "- `PIL.Image` and `pyvirtualdisplay` are needed to render the Lunar Lander environment.\n",
    "- We will use several modules from the `tensorflow.keras` framework for building deep learning models.\n",
    "- `utils` is a module that contains helper functions for this assignment. You do not need to modify the code in this file.\n",
    "\n",
    "Run the cell below to import all the necessary packages."
   ]
  },
  {
   "cell_type": "code",
   "execution_count": 1,
   "metadata": {
    "deletable": false,
    "editable": false,
    "id": "KYbOPKRtfQOr"
   },
   "outputs": [],
   "source": [
    "import time\n",
    "from collections import deque, namedtuple\n",
    "\n",
    "import gym\n",
    "import numpy as np\n",
    "import PIL.Image\n",
    "import tensorflow as tf\n",
    "import utils\n",
    "\n",
    "from pyvirtualdisplay import Display\n",
    "from tensorflow.keras import Sequential\n",
    "from tensorflow.keras.layers import Dense, Input\n",
    "from tensorflow.keras.losses import MSE\n",
    "from tensorflow.keras.optimizers import Adam"
   ]
  },
  {
   "cell_type": "code",
   "execution_count": 2,
   "metadata": {
    "deletable": false,
    "editable": false
   },
   "outputs": [],
   "source": [
    "# Set up a virtual display to render the Lunar Lander environment.\n",
    "Display(visible=0, size=(840, 480)).start();\n",
    "\n",
    "# Set the random seed for TensorFlow\n",
    "tf.random.set_seed(utils.SEED)"
   ]
  },
  {
   "cell_type": "markdown",
   "metadata": {},
   "source": [
    "<a name=\"2\"></a>\n",
    "## 2 - Hyperparameters\n",
    "\n",
    "Run the cell below to set the hyperparameters."
   ]
  },
  {
   "cell_type": "code",
   "execution_count": 3,
   "metadata": {
    "deletable": false,
    "editable": false
   },
   "outputs": [],
   "source": [
    "MEMORY_SIZE = 100_000     # size of memory buffer\n",
    "GAMMA = 0.995             # discount factor\n",
    "ALPHA = 1e-3              # learning rate  \n",
    "NUM_STEPS_FOR_UPDATE = 4  # perform a learning update every C time steps"
   ]
  },
  {
   "cell_type": "markdown",
   "metadata": {},
   "source": [
    "<a name=\"3\"></a>\n",
    "## 3 - The Lunar Lander Environment\n",
    "\n",
    "In this notebook we will be using [OpenAI's Gym Library](https://www.gymlibrary.dev/). The Gym library provides a wide variety of environments for reinforcement learning. To put it simply, an environment represents a problem or task to be solved. In this notebook, we will try to solve the Lunar Lander environment using reinforcement learning.\n",
    "\n",
    "The goal of the Lunar Lander environment is to land the lunar lander safely on the landing pad on the surface of the moon. The landing pad is designated by two flag poles and its center is at coordinates `(0,0)` but the lander is also allowed to land outside of the landing pad. The lander starts at the top center of the environment with a random initial force applied to its center of mass and has infinite fuel. The environment is considered solved if you get `200` points. \n",
    "\n",
    "<br>\n",
    "<br>\n",
    "<figure>\n",
    "  <img src = \"images/lunar_lander.gif\" width = 40%>\n",
    "      <figcaption style = \"text-align: center; font-style: italic\">Fig 1. Lunar Lander Environment.</figcaption>\n",
    "</figure>\n",
    "\n",
    "\n",
    "\n",
    "<a name=\"3.1\"></a>\n",
    "### 3.1 Action Space\n",
    "\n",
    "The agent has four discrete actions available:\n",
    "\n",
    "* Do nothing.\n",
    "* Fire right engine.\n",
    "* Fire main engine.\n",
    "* Fire left engine.\n",
    "\n",
    "Each action has a corresponding numerical value:\n",
    "\n",
    "```python\n",
    "Do nothing = 0\n",
    "Fire right engine = 1\n",
    "Fire main engine = 2\n",
    "Fire left engine = 3\n",
    "```\n",
    "\n",
    "<a name=\"3.2\"></a>\n",
    "### 3.2 Observation Space\n",
    "\n",
    "The agent's observation space consists of a state vector with 8 variables:\n",
    "\n",
    "* Its $(x,y)$ coordinates. The landing pad is always at coordinates $(0,0)$.\n",
    "* Its linear velocities $(\\dot x,\\dot y)$.\n",
    "* Its angle $\\theta$.\n",
    "* Its angular velocity $\\dot \\theta$.\n",
    "* Two booleans, $l$ and $r$, that represent whether each leg is in contact with the ground or not.\n",
    "\n",
    "<a name=\"3.3\"></a>\n",
    "### 3.3 Rewards\n",
    "\n",
    "After every step, a reward is granted. The total reward of an episode is the sum of the rewards for all the steps within that episode.\n",
    "\n",
    "For each step, the reward:\n",
    "- is increased/decreased the closer/further the lander is to the landing pad.\n",
    "- is increased/decreased the slower/faster the lander is moving.\n",
    "- is decreased the more the lander is tilted (angle not horizontal).\n",
    "- is increased by 10 points for each leg that is in contact with the ground.\n",
    "- is decreased by 0.03 points each frame a side engine is firing.\n",
    "- is decreased by 0.3 points each frame the main engine is firing.\n",
    "\n",
    "The episode receives an additional reward of -100 or +100 points for crashing or landing safely respectively.\n",
    "\n",
    "<a name=\"3.4\"></a>\n",
    "### 3.4 Episode Termination\n",
    "\n",
    "An episode ends (i.e the environment enters a terminal state) if:\n",
    "\n",
    "* The lunar lander crashes (i.e if the body of the lunar lander comes in contact with the surface of the moon).\n",
    "\n",
    "* The absolute value of the lander's $x$-coordinate is greater than 1 (i.e. it goes beyond the left or right border)\n",
    "\n",
    "You can check out the [Open AI Gym documentation](https://www.gymlibrary.dev/environments/box2d/lunar_lander/) for a full description of the environment. "
   ]
  },
  {
   "cell_type": "markdown",
   "metadata": {},
   "source": [
    "<a name=\"4\"></a>\n",
    "## 4 - Load the Environment\n",
    "\n",
    "We start by loading the `LunarLander-v2` environment from the `gym` library by using the `.make()` method. `LunarLander-v2` is the latest version of the Lunar Lander environment and you can read about its version history in the [Open AI Gym documentation](https://www.gymlibrary.dev/environments/box2d/lunar_lander/#version-history)."
   ]
  },
  {
   "cell_type": "code",
   "execution_count": 4,
   "metadata": {
    "deletable": false,
    "editable": false,
    "id": "ILVMYKewfR0n"
   },
   "outputs": [],
   "source": [
    "env = gym.make('LunarLander-v2')"
   ]
  },
  {
   "cell_type": "markdown",
   "metadata": {},
   "source": [
    "Once we load the environment we use the `.reset()` method to reset the environment to the initial state. The lander starts at the top center of the environment and we can render the first frame of the environment by using the `.render()` method."
   ]
  },
  {
   "cell_type": "code",
   "execution_count": 5,
   "metadata": {
    "deletable": false,
    "editable": false
   },
   "outputs": [
    {
     "data": {
      "image/png": "[encoded data removed]",
      "text/plain": [
       "<PIL.Image.Image image mode=RGB size=600x400 at 0x7F3D01A57D50>"
      ]
     },
     "execution_count": 5,
     "metadata": {},
     "output_type": "execute_result"
    }
   ],
   "source": [
    "env.reset()\n",
    "PIL.Image.fromarray(env.render(mode='rgb_array'))"
   ]
  },
  {
   "cell_type": "markdown",
   "metadata": {},
   "source": [
    "In order to build our neural network later on we need to know the size of the state vector and the number of valid actions. We can get this information from our environment by using the `.observation_space.shape` and `action_space.n` methods, respectively."
   ]
  },
  {
   "cell_type": "code",
   "execution_count": 6,
   "metadata": {
    "deletable": false,
    "editable": false,
    "id": "x3fdqdG4CUu2"
   },
   "outputs": [
    {
     "name": "stdout",
     "output_type": "stream",
     "text": [
      "State Shape: (8,)\n",
      "Number of actions: 4\n"
     ]
    }
   ],
   "source": [
    "state_size = env.observation_space.shape\n",
    "num_actions = env.action_space.n\n",
    "\n",
    "print('State Shape:', state_size)\n",
    "print('Number of actions:', num_actions)"
   ]
  },
  {
   "cell_type": "markdown",
   "metadata": {},
   "source": [
    "<a name=\"5\"></a>\n",
    "## 5 - Interacting with the Gym Environment\n",
    "\n",
    "The Gym library implements the standard “agent-environment loop” formalism:\n",
    "\n",
    "<br>\n",
    "<center>\n",
    "<video src = \"./videos/rl_formalism.m4v\" width=\"840\" height=\"480\" controls autoplay loop poster=\"./images/rl_formalism.png\"> </video>\n",
    "<figcaption style = \"text-align:center; font-style:italic\">Fig 2. Agent-environment Loop Formalism.</figcaption>\n",
    "</center>\n",
    "<br>\n",
    "\n",
    "In the standard “agent-environment loop” formalism, an agent interacts with the environment in discrete time steps $t=0,1,2,...$. At each time step $t$, the agent uses a policy $\\pi$ to select an action $A_t$ based on its observation of the environment's state $S_t$. The agent receives a numerical reward $R_t$ and on the next time step, moves to a new state $S_{t+1}$.\n",
    "\n",
    "<a name=\"5.1\"></a>\n",
    "### 5.1 Exploring the Environment's Dynamics\n",
    "\n",
    "In Open AI's Gym environments, we use the `.step()` method to run a single time step of the environment's dynamics. In the version of `gym` that we are using the `.step()` method accepts an action and returns four values:\n",
    "\n",
    "* `observation` (**object**): an environment-specific object representing your observation of the environment. In the Lunar Lander environment this corresponds to a numpy array containing the positions and velocities of the lander as described in section [3.2 Observation Space](#3.2).\n",
    "\n",
    "\n",
    "* `reward` (**float**): amount of reward returned as a result of taking the given action. In the Lunar Lander environment this corresponds to a float of type `numpy.float64` as described in section [3.3 Rewards](#3.3).\n",
    "\n",
    "\n",
    "* `done` (**boolean**): When done is `True`, it indicates the episode has terminated and it’s time to reset the environment. \n",
    "\n",
    "\n",
    "* `info` (**dictionary**): diagnostic information useful for debugging. We won't be using this variable in this notebook but it is shown here for completeness.\n",
    "\n",
    "To begin an episode, we need to reset the environment to an initial state. We do this by using the `.reset()` method. "
   ]
  },
  {
   "cell_type": "code",
   "execution_count": 7,
   "metadata": {
    "deletable": false,
    "editable": false
   },
   "outputs": [],
   "source": [
    "# Reset the environment and get the initial state.\n",
    "current_state = env.reset()"
   ]
  },
  {
   "cell_type": "markdown",
   "metadata": {},
   "source": [
    "Once the environment is reset, the agent can start taking actions in the environment by using the `.step()` method. Note that the agent can only take one action per time step. \n",
    "\n",
    "In the cell below you can select different actions and see how the returned values change depending on the action taken. Remember that in this environment the agent has four discrete actions available and we specify them in code by using their corresponding numerical value:\n",
    "\n",
    "```python\n",
    "Do nothing = 0\n",
    "Fire right engine = 1\n",
    "Fire main engine = 2\n",
    "Fire left engine = 3\n",
    "```"
   ]
  },
  {
   "cell_type": "code",
   "execution_count": 8,
   "metadata": {
    "deletable": false
   },
   "outputs": [
    {
     "data": {
      "text/html": [
       "<style  type=\"text/css\" >\n",
       "    #T_d205026e_be04_11ee_b390_0242ac120023 th {\n",
       "          border: 1px solid grey;\n",
       "          text-align: center;\n",
       "    }    #T_d205026e_be04_11ee_b390_0242ac120023 tbody td {\n",
       "          border: 1px solid grey;\n",
       "          text-align: center;\n",
       "    }    #T_d205026e_be04_11ee_b390_0242ac120023row0_col0 {\n",
       "            background-color :  grey;\n",
       "        }    #T_d205026e_be04_11ee_b390_0242ac120023row1_col1 {\n",
       "            background-color :  grey;\n",
       "        }    #T_d205026e_be04_11ee_b390_0242ac120023row1_col2 {\n",
       "            background-color :  grey;\n",
       "        }    #T_d205026e_be04_11ee_b390_0242ac120023row1_col3 {\n",
       "            background-color :  grey;\n",
       "        }    #T_d205026e_be04_11ee_b390_0242ac120023row1_col4 {\n",
       "            background-color :  grey;\n",
       "        }    #T_d205026e_be04_11ee_b390_0242ac120023row1_col5 {\n",
       "            background-color :  grey;\n",
       "        }    #T_d205026e_be04_11ee_b390_0242ac120023row1_col6 {\n",
       "            background-color :  grey;\n",
       "        }    #T_d205026e_be04_11ee_b390_0242ac120023row1_col7 {\n",
       "            background-color :  grey;\n",
       "        }    #T_d205026e_be04_11ee_b390_0242ac120023row1_col8 {\n",
       "            background-color :  grey;\n",
       "        }    #T_d205026e_be04_11ee_b390_0242ac120023row1_col9 {\n",
       "            background-color :  grey;\n",
       "        }    #T_d205026e_be04_11ee_b390_0242ac120023row1_col10 {\n",
       "            background-color :  grey;\n",
       "        }    #T_d205026e_be04_11ee_b390_0242ac120023row1_col11 {\n",
       "            background-color :  grey;\n",
       "        }    #T_d205026e_be04_11ee_b390_0242ac120023row2_col0 {\n",
       "            background-color :  grey;\n",
       "        }    #T_d205026e_be04_11ee_b390_0242ac120023row3_col1 {\n",
       "            background-color :  grey;\n",
       "        }    #T_d205026e_be04_11ee_b390_0242ac120023row3_col2 {\n",
       "            background-color :  grey;\n",
       "        }    #T_d205026e_be04_11ee_b390_0242ac120023row3_col3 {\n",
       "            background-color :  grey;\n",
       "        }    #T_d205026e_be04_11ee_b390_0242ac120023row3_col4 {\n",
       "            background-color :  grey;\n",
       "        }    #T_d205026e_be04_11ee_b390_0242ac120023row3_col5 {\n",
       "            background-color :  grey;\n",
       "        }    #T_d205026e_be04_11ee_b390_0242ac120023row3_col6 {\n",
       "            background-color :  grey;\n",
       "        }    #T_d205026e_be04_11ee_b390_0242ac120023row3_col7 {\n",
       "            background-color :  grey;\n",
       "        }    #T_d205026e_be04_11ee_b390_0242ac120023row3_col8 {\n",
       "            background-color :  grey;\n",
       "        }    #T_d205026e_be04_11ee_b390_0242ac120023row3_col9 {\n",
       "            background-color :  grey;\n",
       "        }    #T_d205026e_be04_11ee_b390_0242ac120023row3_col10 {\n",
       "            background-color :  grey;\n",
       "        }    #T_d205026e_be04_11ee_b390_0242ac120023row3_col11 {\n",
       "            background-color :  grey;\n",
       "        }    #T_d205026e_be04_11ee_b390_0242ac120023row4_col1 {\n",
       "            background-color :  grey;\n",
       "        }    #T_d205026e_be04_11ee_b390_0242ac120023row4_col2 {\n",
       "            background-color :  grey;\n",
       "        }    #T_d205026e_be04_11ee_b390_0242ac120023row4_col3 {\n",
       "            background-color :  grey;\n",
       "        }    #T_d205026e_be04_11ee_b390_0242ac120023row4_col4 {\n",
       "            background-color :  grey;\n",
       "        }    #T_d205026e_be04_11ee_b390_0242ac120023row4_col5 {\n",
       "            background-color :  grey;\n",
       "        }    #T_d205026e_be04_11ee_b390_0242ac120023row4_col6 {\n",
       "            background-color :  grey;\n",
       "        }    #T_d205026e_be04_11ee_b390_0242ac120023row4_col7 {\n",
       "            background-color :  grey;\n",
       "        }    #T_d205026e_be04_11ee_b390_0242ac120023row4_col8 {\n",
       "            background-color :  grey;\n",
       "        }    #T_d205026e_be04_11ee_b390_0242ac120023row4_col9 {\n",
       "            background-color :  grey;\n",
       "        }    #T_d205026e_be04_11ee_b390_0242ac120023row4_col10 {\n",
       "            background-color :  grey;\n",
       "        }    #T_d205026e_be04_11ee_b390_0242ac120023row4_col11 {\n",
       "            background-color :  grey;\n",
       "        }</style><table id=\"T_d205026e_be04_11ee_b390_0242ac120023\" ><thead>    <tr>        <th class=\"blank level0\" ></th>        <th class=\"col_heading level0 col0\" ></th>        <th class=\"col_heading level0 col1\" colspan=8>State Vector</th>        <th class=\"col_heading level0 col9\" colspan=3>Derived from the State Vector (the closer to zero, the better)</th>    </tr>    <tr>        <th class=\"blank level1\" ></th>        <th class=\"col_heading level1 col0\" ></th>        <th class=\"col_heading level1 col1\" colspan=2>Coordinate</th>        <th class=\"col_heading level1 col3\" colspan=2>Velocity</th>        <th class=\"col_heading level1 col5\" colspan=2>Tilting</th>        <th class=\"col_heading level1 col7\" colspan=2>Ground contact</th>        <th class=\"col_heading level1 col9\" >Distance from landing pad</th>        <th class=\"col_heading level1 col10\" >Velocity</th>        <th class=\"col_heading level1 col11\" >Tilting Angle (absolute value)</th>    </tr>    <tr>        <th class=\"blank level2\" ></th>        <th class=\"col_heading level2 col0\" ></th>        <th class=\"col_heading level2 col1\" >X (Horizontal)</th>        <th class=\"col_heading level2 col2\" >Y (Vertical)</th>        <th class=\"col_heading level2 col3\" >X (Horizontal)</th>        <th class=\"col_heading level2 col4\" >Y (Vertical)</th>        <th class=\"col_heading level2 col5\" >Angle</th>        <th class=\"col_heading level2 col6\" >Angular Velocity</th>        <th class=\"col_heading level2 col7\" >Left Leg?</th>        <th class=\"col_heading level2 col8\" >Right Leg?</th>        <th class=\"col_heading level2 col9\" ></th>        <th class=\"col_heading level2 col10\" ></th>        <th class=\"col_heading level2 col11\" ></th>    </tr></thead><tbody>\n",
       "                <tr>\n",
       "                        <th id=\"T_d205026e_be04_11ee_b390_0242ac120023level0_row0\" class=\"row_heading level0 row0\" >Current State</th>\n",
       "                        <td id=\"T_d205026e_be04_11ee_b390_0242ac120023row0_col0\" class=\"data row0 col0\" ></td>\n",
       "                        <td id=\"T_d205026e_be04_11ee_b390_0242ac120023row0_col1\" class=\"data row0 col1\" >0.001919</td>\n",
       "                        <td id=\"T_d205026e_be04_11ee_b390_0242ac120023row0_col2\" class=\"data row0 col2\" >1.422301</td>\n",
       "                        <td id=\"T_d205026e_be04_11ee_b390_0242ac120023row0_col3\" class=\"data row0 col3\" >0.194400</td>\n",
       "                        <td id=\"T_d205026e_be04_11ee_b390_0242ac120023row0_col4\" class=\"data row0 col4\" >0.505814</td>\n",
       "                        <td id=\"T_d205026e_be04_11ee_b390_0242ac120023row0_col5\" class=\"data row0 col5\" >-0.002217</td>\n",
       "                        <td id=\"T_d205026e_be04_11ee_b390_0242ac120023row0_col6\" class=\"data row0 col6\" >-0.044034</td>\n",
       "                        <td id=\"T_d205026e_be04_11ee_b390_0242ac120023row0_col7\" class=\"data row0 col7\" >False</td>\n",
       "                        <td id=\"T_d205026e_be04_11ee_b390_0242ac120023row0_col8\" class=\"data row0 col8\" >False</td>\n",
       "                        <td id=\"T_d205026e_be04_11ee_b390_0242ac120023row0_col9\" class=\"data row0 col9\" >1.422302</td>\n",
       "                        <td id=\"T_d205026e_be04_11ee_b390_0242ac120023row0_col10\" class=\"data row0 col10\" >0.541885</td>\n",
       "                        <td id=\"T_d205026e_be04_11ee_b390_0242ac120023row0_col11\" class=\"data row0 col11\" >0.002217</td>\n",
       "            </tr>\n",
       "            <tr>\n",
       "                        <th id=\"T_d205026e_be04_11ee_b390_0242ac120023level0_row1\" class=\"row_heading level0 row1\" >Action</th>\n",
       "                        <td id=\"T_d205026e_be04_11ee_b390_0242ac120023row1_col0\" class=\"data row1 col0\" >Do nothing</td>\n",
       "                        <td id=\"T_d205026e_be04_11ee_b390_0242ac120023row1_col1\" class=\"data row1 col1\" ></td>\n",
       "                        <td id=\"T_d205026e_be04_11ee_b390_0242ac120023row1_col2\" class=\"data row1 col2\" ></td>\n",
       "                        <td id=\"T_d205026e_be04_11ee_b390_0242ac120023row1_col3\" class=\"data row1 col3\" ></td>\n",
       "                        <td id=\"T_d205026e_be04_11ee_b390_0242ac120023row1_col4\" class=\"data row1 col4\" ></td>\n",
       "                        <td id=\"T_d205026e_be04_11ee_b390_0242ac120023row1_col5\" class=\"data row1 col5\" ></td>\n",
       "                        <td id=\"T_d205026e_be04_11ee_b390_0242ac120023row1_col6\" class=\"data row1 col6\" ></td>\n",
       "                        <td id=\"T_d205026e_be04_11ee_b390_0242ac120023row1_col7\" class=\"data row1 col7\" ></td>\n",
       "                        <td id=\"T_d205026e_be04_11ee_b390_0242ac120023row1_col8\" class=\"data row1 col8\" ></td>\n",
       "                        <td id=\"T_d205026e_be04_11ee_b390_0242ac120023row1_col9\" class=\"data row1 col9\" ></td>\n",
       "                        <td id=\"T_d205026e_be04_11ee_b390_0242ac120023row1_col10\" class=\"data row1 col10\" ></td>\n",
       "                        <td id=\"T_d205026e_be04_11ee_b390_0242ac120023row1_col11\" class=\"data row1 col11\" ></td>\n",
       "            </tr>\n",
       "            <tr>\n",
       "                        <th id=\"T_d205026e_be04_11ee_b390_0242ac120023level0_row2\" class=\"row_heading level0 row2\" >Next State</th>\n",
       "                        <td id=\"T_d205026e_be04_11ee_b390_0242ac120023row2_col0\" class=\"data row2 col0\" ></td>\n",
       "                        <td id=\"T_d205026e_be04_11ee_b390_0242ac120023row2_col1\" class=\"data row2 col1\" >0.003839</td>\n",
       "                        <td id=\"T_d205026e_be04_11ee_b390_0242ac120023row2_col2\" class=\"data row2 col2\" >1.433103</td>\n",
       "                        <td id=\"T_d205026e_be04_11ee_b390_0242ac120023row2_col3\" class=\"data row2 col3\" >0.194137</td>\n",
       "                        <td id=\"T_d205026e_be04_11ee_b390_0242ac120023row2_col4\" class=\"data row2 col4\" >0.480094</td>\n",
       "                        <td id=\"T_d205026e_be04_11ee_b390_0242ac120023row2_col5\" class=\"data row2 col5\" >-0.004393</td>\n",
       "                        <td id=\"T_d205026e_be04_11ee_b390_0242ac120023row2_col6\" class=\"data row2 col6\" >-0.043519</td>\n",
       "                        <td id=\"T_d205026e_be04_11ee_b390_0242ac120023row2_col7\" class=\"data row2 col7\" >False</td>\n",
       "                        <td id=\"T_d205026e_be04_11ee_b390_0242ac120023row2_col8\" class=\"data row2 col8\" >False</td>\n",
       "                        <td id=\"T_d205026e_be04_11ee_b390_0242ac120023row2_col9\" class=\"data row2 col9\" >1.433108</td>\n",
       "                        <td id=\"T_d205026e_be04_11ee_b390_0242ac120023row2_col10\" class=\"data row2 col10\" >0.517860</td>\n",
       "                        <td id=\"T_d205026e_be04_11ee_b390_0242ac120023row2_col11\" class=\"data row2 col11\" >0.004393</td>\n",
       "            </tr>\n",
       "            <tr>\n",
       "                        <th id=\"T_d205026e_be04_11ee_b390_0242ac120023level0_row3\" class=\"row_heading level0 row3\" >Reward</th>\n",
       "                        <td id=\"T_d205026e_be04_11ee_b390_0242ac120023row3_col0\" class=\"data row3 col0\" >1.104326</td>\n",
       "                        <td id=\"T_d205026e_be04_11ee_b390_0242ac120023row3_col1\" class=\"data row3 col1\" ></td>\n",
       "                        <td id=\"T_d205026e_be04_11ee_b390_0242ac120023row3_col2\" class=\"data row3 col2\" ></td>\n",
       "                        <td id=\"T_d205026e_be04_11ee_b390_0242ac120023row3_col3\" class=\"data row3 col3\" ></td>\n",
       "                        <td id=\"T_d205026e_be04_11ee_b390_0242ac120023row3_col4\" class=\"data row3 col4\" ></td>\n",
       "                        <td id=\"T_d205026e_be04_11ee_b390_0242ac120023row3_col5\" class=\"data row3 col5\" ></td>\n",
       "                        <td id=\"T_d205026e_be04_11ee_b390_0242ac120023row3_col6\" class=\"data row3 col6\" ></td>\n",
       "                        <td id=\"T_d205026e_be04_11ee_b390_0242ac120023row3_col7\" class=\"data row3 col7\" ></td>\n",
       "                        <td id=\"T_d205026e_be04_11ee_b390_0242ac120023row3_col8\" class=\"data row3 col8\" ></td>\n",
       "                        <td id=\"T_d205026e_be04_11ee_b390_0242ac120023row3_col9\" class=\"data row3 col9\" ></td>\n",
       "                        <td id=\"T_d205026e_be04_11ee_b390_0242ac120023row3_col10\" class=\"data row3 col10\" ></td>\n",
       "                        <td id=\"T_d205026e_be04_11ee_b390_0242ac120023row3_col11\" class=\"data row3 col11\" ></td>\n",
       "            </tr>\n",
       "            <tr>\n",
       "                        <th id=\"T_d205026e_be04_11ee_b390_0242ac120023level0_row4\" class=\"row_heading level0 row4\" >Episode Terminated</th>\n",
       "                        <td id=\"T_d205026e_be04_11ee_b390_0242ac120023row4_col0\" class=\"data row4 col0\" >False</td>\n",
       "                        <td id=\"T_d205026e_be04_11ee_b390_0242ac120023row4_col1\" class=\"data row4 col1\" ></td>\n",
       "                        <td id=\"T_d205026e_be04_11ee_b390_0242ac120023row4_col2\" class=\"data row4 col2\" ></td>\n",
       "                        <td id=\"T_d205026e_be04_11ee_b390_0242ac120023row4_col3\" class=\"data row4 col3\" ></td>\n",
       "                        <td id=\"T_d205026e_be04_11ee_b390_0242ac120023row4_col4\" class=\"data row4 col4\" ></td>\n",
       "                        <td id=\"T_d205026e_be04_11ee_b390_0242ac120023row4_col5\" class=\"data row4 col5\" ></td>\n",
       "                        <td id=\"T_d205026e_be04_11ee_b390_0242ac120023row4_col6\" class=\"data row4 col6\" ></td>\n",
       "                        <td id=\"T_d205026e_be04_11ee_b390_0242ac120023row4_col7\" class=\"data row4 col7\" ></td>\n",
       "                        <td id=\"T_d205026e_be04_11ee_b390_0242ac120023row4_col8\" class=\"data row4 col8\" ></td>\n",
       "                        <td id=\"T_d205026e_be04_11ee_b390_0242ac120023row4_col9\" class=\"data row4 col9\" ></td>\n",
       "                        <td id=\"T_d205026e_be04_11ee_b390_0242ac120023row4_col10\" class=\"data row4 col10\" ></td>\n",
       "                        <td id=\"T_d205026e_be04_11ee_b390_0242ac120023row4_col11\" class=\"data row4 col11\" ></td>\n",
       "            </tr>\n",
       "    </tbody></table>"
      ],
      "text/plain": [
       "<pandas.io.formats.style.Styler at 0x7f3d1c8d2310>"
      ]
     },
     "metadata": {},
     "output_type": "display_data"
    }
   ],
   "source": [
    "# Select an action\n",
    "action = 0\n",
    "\n",
    "# Run a single time step of the environment's dynamics with the given action.\n",
    "next_state, reward, done, _ = env.step(action)\n",
    "\n",
    "# Display table with values.\n",
    "utils.display_table(current_state, action, next_state, reward, done)\n",
    "\n",
    "# Replace the `current_state` with the state after the action is taken\n",
    "current_state = next_state"
   ]
  },
  {
   "cell_type": "markdown",
   "metadata": {},
   "source": [
    "In practice, when we train the agent we use a loop to allow the agent to take many consecutive actions during an episode."
   ]
  },
  {
   "cell_type": "markdown",
   "metadata": {},
   "source": [
    "<a name=\"6\"></a>\n",
    "## 6 - Deep Q-Learning\n",
    "\n",
    "In cases where both the state and action space are discrete we can estimate the action-value function iteratively by using the Bellman equation:\n",
    "\n",
    "$$\n",
    "Q_{i+1}(s,a) = R + \\gamma \\max_{a'}Q_i(s',a')\n",
    "$$\n",
    "\n",
    "This iterative method converges to the optimal action-value function $Q^*(s,a)$ as $i\\to\\infty$. This means that the agent just needs to gradually explore the state-action space and keep updating the estimate of $Q(s,a)$ until it converges to the optimal action-value function $Q^*(s,a)$. However, in cases where the state space is continuous it becomes practically impossible to explore the entire state-action space. Consequently, this also makes it practically impossible to gradually estimate $Q(s,a)$ until it converges to $Q^*(s,a)$.\n",
    "\n",
    "In the Deep $Q$-Learning, we solve this problem by using a neural network to estimate the action-value function $Q(s,a)\\approx Q^*(s,a)$. We call this neural network a $Q$-Network and it can be trained by adjusting its weights at each iteration to minimize the mean-squared error in the Bellman equation.\n",
    "\n",
    "Unfortunately, using neural networks in reinforcement learning to estimate action-value functions has proven to be highly unstable. Luckily, there's a couple of techniques that can be employed to avoid instabilities. These techniques consist of using a ***Target Network*** and ***Experience Replay***. We will explore these two techniques in the following sections."
   ]
  },
  {
   "cell_type": "markdown",
   "metadata": {},
   "source": [
    "<a name=\"6.1\"></a>\n",
    "### 6.1 Target Network\n",
    "\n",
    "We can train the $Q$-Network by adjusting it's weights at each iteration to minimize the mean-squared error in the Bellman equation, where the target values are given by:\n",
    "\n",
    "$$\n",
    "y = R + \\gamma \\max_{a'}Q(s',a';w)\n",
    "$$\n",
    "\n",
    "where $w$ are the weights of the $Q$-Network. This means that we are adjusting the weights $w$ at each iteration to minimize the following error:\n",
    "\n",
    "$$\n",
    "\\overbrace{\\underbrace{R + \\gamma \\max_{a'}Q(s',a'; w)}_{\\rm {y~target}} - Q(s,a;w)}^{\\rm {Error}}\n",
    "$$\n",
    "\n",
    "Notice that this forms a problem because the $y$ target is changing on every iteration. Having a constantly moving target can lead to oscillations and instabilities. To avoid this, we can create\n",
    "a separate neural network for generating the $y$ targets. We call this separate neural network the **target $\\hat Q$-Network** and it will have the same architecture as the original $Q$-Network. By using the target $\\hat Q$-Network, the above error becomes:\n",
    "\n",
    "$$\n",
    "\\overbrace{\\underbrace{R + \\gamma \\max_{a'}\\hat{Q}(s',a'; w^-)}_{\\rm {y~target}} - Q(s,a;w)}^{\\rm {Error}}\n",
    "$$\n",
    "\n",
    "where $w^-$ and $w$ are the weights of the target $\\hat Q$-Network and $Q$-Network, respectively.\n",
    "\n",
    "In practice, we will use the following algorithm: every $C$ time steps we will use the $\\hat Q$-Network to generate the $y$ targets and update the weights of the target $\\hat Q$-Network using the weights of the $Q$-Network. We will update the weights $w^-$ of the the target $\\hat Q$-Network using a **soft update**. This means that we will update the weights $w^-$ using the following rule:\n",
    " \n",
    "$$\n",
    "w^-\\leftarrow \\tau w + (1 - \\tau) w^-\n",
    "$$\n",
    "\n",
    "where $\\tau\\ll 1$. By using the soft update, we are ensuring that the target values, $y$, change slowly, which greatly improves the stability of our learning algorithm."
   ]
  },
  {
   "cell_type": "markdown",
   "metadata": {},
   "source": [
    "<a name=\"ex01\"></a>\n",
    "### Exercise 1\n",
    "\n",
    "In this exercise you will create the $Q$ and target $\\hat Q$ networks and set the optimizer. Remember that the Deep $Q$-Network (DQN) is a neural network that approximates the action-value function $Q(s,a)\\approx Q^*(s,a)$. It does this by learning how to map states to $Q$ values.\n",
    "\n",
    "To solve the Lunar Lander environment, we are going to employ a DQN with the following architecture:\n",
    "\n",
    "* An `Input` layer that takes `state_size` as input.\n",
    "\n",
    "* A `Dense` layer with `64` units and a `relu` activation function.\n",
    "\n",
    "* A `Dense` layer with `64` units and a `relu` activation function.\n",
    "\n",
    "* A `Dense` layer with `num_actions` units and a `linear` activation function. This will be the output layer of our network.\n",
    "\n",
    "\n",
    "In the cell below you should create the $Q$-Network and the target $\\hat Q$-Network using the model architecture described above. Remember that both the $Q$-Network and the target $\\hat Q$-Network have the same architecture.\n",
    "\n",
    "Lastly, you should set `Adam` as the optimizer with a learning rate equal to `ALPHA`. Recall that `ALPHA` was defined in the [Hyperparameters](#2) section. We should note that for this exercise you should use the already imported packages:\n",
    "```python\n",
    "from tensorflow.keras.layers import Dense, Input\n",
    "from tensorflow.keras.optimizers import Adam\n",
    "```"
   ]
  },
  {
   "cell_type": "code",
   "execution_count": 11,
   "metadata": {
    "deletable": false
   },
   "outputs": [],
   "source": [
    "# UNQ_C1\n",
    "# GRADED CELL\n",
    "\n",
    "# Create the Q-Network\n",
    "q_network = Sequential([\n",
    "    ### START CODE HERE ### \n",
    "    Input(shape = state_size),\n",
    "    Dense(64, activation = 'relu'),\n",
    "    Dense(64, activation = 'relu'),\n",
    "    Dense(num_actions, activation = 'linear')\n",
    "    ### END CODE HERE ### \n",
    "    ])\n",
    "\n",
    "# Create the target Q^-Network\n",
    "target_q_network = Sequential([\n",
    "    ### START CODE HERE ### \n",
    "    Input(shape = state_size),\n",
    "    Dense(64, activation = 'relu'),\n",
    "    Dense(64, activation = 'relu'),\n",
    "    Dense(num_actions, activation = 'linear')\n",
    "    ### END CODE HERE ###\n",
    "    ])\n",
    "\n",
    "### START CODE HERE ### \n",
    "optimizer = Adam(ALPHA)\n",
    "### END CODE HERE ###"
   ]
  },
  {
   "cell_type": "code",
   "execution_count": 12,
   "metadata": {
    "deletable": false,
    "editable": false
   },
   "outputs": [
    {
     "name": "stdout",
     "output_type": "stream",
     "text": [
      "\u001b[92mAll tests passed!\n",
      "\u001b[92mAll tests passed!\n",
      "\u001b[92mAll tests passed!\n"
     ]
    }
   ],
   "source": [
    "# UNIT TEST\n",
    "from public_tests import *\n",
    "\n",
    "test_network(q_network)\n",
    "test_network(target_q_network)\n",
    "test_optimizer(optimizer, ALPHA) "
   ]
  },
  {
   "cell_type": "markdown",
   "metadata": {},
   "source": [
    "<details>\n",
    "  <summary><font size=\"3\" color=\"darkgreen\"><b>Click for hints</b></font></summary>\n",
    "    \n",
    "```python\n",
    "# Create the Q-Network\n",
    "q_network = Sequential([\n",
    "    Input(shape=state_size),                      \n",
    "    Dense(units=64, activation='relu'),            \n",
    "    Dense(units=64, activation='relu'),            \n",
    "    Dense(units=num_actions, activation='linear'),\n",
    "    ])\n",
    "\n",
    "# Create the target Q^-Network\n",
    "target_q_network = Sequential([\n",
    "    Input(shape=state_size),                       \n",
    "    Dense(units=64, activation='relu'),            \n",
    "    Dense(units=64, activation='relu'),            \n",
    "    Dense(units=num_actions, activation='linear'), \n",
    "    ])\n",
    "\n",
    "optimizer = Adam(learning_rate=ALPHA)                                  \n",
    "``` "
   ]
  },
  {
   "cell_type": "markdown",
   "metadata": {},
   "source": [
    "<a name=\"6.2\"></a>\n",
    "### 6.2 Experience Replay\n",
    "\n",
    "When an agent interacts with the environment, the states, actions, and rewards the agent experiences are sequential by nature. If the agent tries to learn from these consecutive experiences it can run into problems due to the strong correlations between them. To avoid this, we employ a technique known as **Experience Replay** to generate uncorrelated experiences for training our agent. Experience replay consists of storing the agent's experiences (i.e the states, actions, and rewards the agent receives) in a memory buffer and then sampling a random mini-batch of experiences from the buffer to do the learning. The experience tuples $(S_t, A_t, R_t, S_{t+1})$ will be added to the memory buffer at each time step as the agent interacts with the environment.\n",
    "\n",
    "For convenience, we will store the experiences as named tuples."
   ]
  },
  {
   "cell_type": "code",
   "execution_count": 13,
   "metadata": {
    "deletable": false,
    "editable": false
   },
   "outputs": [],
   "source": [
    "# Store experiences as named tuples\n",
    "experience = namedtuple(\"Experience\", field_names=[\"state\", \"action\", \"reward\", \"next_state\", \"done\"])"
   ]
  },
  {
   "cell_type": "markdown",
   "metadata": {},
   "source": [
    "By using experience replay we avoid problematic correlations, oscillations and instabilities. In addition, experience replay also allows the agent to potentially use the same experience in multiple weight updates, which increases data efficiency."
   ]
  },
  {
   "cell_type": "markdown",
   "metadata": {},
   "source": [
    "<a name=\"7\"></a>\n",
    "## 7 - Deep Q-Learning Algorithm with Experience Replay\n",
    "\n",
    "Now that we know all the techniques that we are going to use, we can put them together to arrive at the Deep Q-Learning Algorithm With Experience Replay.\n",
    "<br>\n",
    "<br>\n",
    "<figure>\n",
    "  <img src = \"images/deep_q_algorithm.png\" width = 90% style = \"border: thin silver solid; padding: 0px\">\n",
    "      <figcaption style = \"text-align: center; font-style: italic\">Fig 3. Deep Q-Learning with Experience Replay.</figcaption>\n",
    "</figure>"
   ]
  },
  {
   "cell_type": "markdown",
   "metadata": {},
   "source": [
    "<a name=\"ex02\"></a>\n",
    "### Exercise 2\n",
    "\n",
    "In this exercise you will implement line ***12*** of the algorithm outlined in *Fig 3* above and you will also compute the loss between the $y$ targets and the $Q(s,a)$ values. In the cell below, complete the `compute_loss` function by setting the $y$ targets equal to:\n",
    "\n",
    "$$\n",
    "\\begin{equation}\n",
    "    y_j =\n",
    "    \\begin{cases}\n",
    "      R_j & \\text{if episode terminates at step  } j+1\\\\\n",
    "      R_j + \\gamma \\max_{a'}\\hat{Q}(s_{j+1},a') & \\text{otherwise}\\\\\n",
    "    \\end{cases}       \n",
    "\\end{equation}\n",
    "$$\n",
    "\n",
    "Here are a couple of things to note:\n",
    "\n",
    "* The `compute_loss` function takes in a mini-batch of experience tuples. This mini-batch of experience tuples is unpacked to extract the `states`, `actions`, `rewards`, `next_states`, and `done_vals`. You should keep in mind that these variables are *TensorFlow Tensors* whose size will depend on the mini-batch size. For example, if the mini-batch size is `64` then both `rewards` and `done_vals` will be TensorFlow Tensors with `64` elements.\n",
    "\n",
    "\n",
    "* Using `if/else` statements to set the $y$ targets will not work when the variables are tensors with many elements. However, notice that you can use the `done_vals` to implement the above in a single line of code. To do this, recall that the `done` variable is a Boolean variable that takes the value `True` when an episode terminates at step $j+1$ and it is `False` otherwise. Taking into account that a Boolean value of `True` has the numerical value of `1` and a Boolean value of `False` has the numerical value of `0`, you can use the factor `(1 - done_vals)` to implement the above in a single line of code. Here's a hint: notice that `(1 - done_vals)` has a value of `0` when `done_vals` is `True` and a value of `1` when `done_vals` is `False`. \n",
    "\n",
    "Lastly, compute the loss by calculating the Mean-Squared Error (`MSE`) between the `y_targets` and the `q_values`. To calculate the mean-squared error you should use the already imported package `MSE`:\n",
    "```python\n",
    "from tensorflow.keras.losses import MSE\n",
    "```"
   ]
  },
  {
   "cell_type": "code",
   "execution_count": 14,
   "metadata": {
    "deletable": false
   },
   "outputs": [],
   "source": [
    "# UNQ_C2\n",
    "# GRADED FUNCTION: calculate_loss\n",
    "\n",
    "def compute_loss(experiences, gamma, q_network, target_q_network):\n",
    "    \"\"\" \n",
    "    Calculates the loss.\n",
    "    \n",
    "    Args:\n",
    "      experiences: (tuple) tuple of [\"state\", \"action\", \"reward\", \"next_state\", \"done\"] namedtuples\n",
    "      gamma: (float) The discount factor.\n",
    "      q_network: (tf.keras.Sequential) Keras model for predicting the q_values\n",
    "      target_q_network: (tf.keras.Sequential) Keras model for predicting the targets\n",
    "          \n",
    "    Returns:\n",
    "      loss: (TensorFlow Tensor(shape=(0,), dtype=int32)) the Mean-Squared Error between\n",
    "            the y targets and the Q(s,a) values.\n",
    "    \"\"\"\n",
    "\n",
    "    # Unpack the mini-batch of experience tuples\n",
    "    states, actions, rewards, next_states, done_vals = experiences\n",
    "    \n",
    "    # Compute max Q^(s,a)\n",
    "    max_qsa = tf.reduce_max(target_q_network(next_states), axis=-1)\n",
    "    \n",
    "    # Set y = R if episode terminates, otherwise set y = R + γ max Q^(s,a).\n",
    "    ### START CODE HERE ### \n",
    "    y_targets = rewards + (gamma * max_qsa * (1 - done_vals))\n",
    "    ### END CODE HERE ###\n",
    "    \n",
    "    # Get the q_values and reshape to match y_targets\n",
    "    q_values = q_network(states)\n",
    "    q_values = tf.gather_nd(q_values, tf.stack([tf.range(q_values.shape[0]),\n",
    "                                                tf.cast(actions, tf.int32)], axis=1))\n",
    "        \n",
    "    # Compute the loss\n",
    "    ### START CODE HERE ### \n",
    "    loss = MSE(y_targets, q_values) \n",
    "    ### END CODE HERE ### \n",
    "    \n",
    "    return loss"
   ]
  },
  {
   "cell_type": "code",
   "execution_count": 15,
   "metadata": {
    "deletable": false,
    "editable": false
   },
   "outputs": [
    {
     "name": "stdout",
     "output_type": "stream",
     "text": [
      "\u001b[92mAll tests passed!\n"
     ]
    }
   ],
   "source": [
    "# UNIT TEST    \n",
    "test_compute_loss(compute_loss)"
   ]
  },
  {
   "cell_type": "markdown",
   "metadata": {},
   "source": [
    "<details>\n",
    "  <summary><font size=\"3\" color=\"darkgreen\"><b>Click for hints</b></font></summary>\n",
    "    \n",
    "```python\n",
    "def compute_loss(experiences, gamma, q_network, target_q_network):\n",
    "    \"\"\" \n",
    "    Calculates the loss.\n",
    "    \n",
    "    Args:\n",
    "      experiences: (tuple) tuple of [\"state\", \"action\", \"reward\", \"next_state\", \"done\"] namedtuples\n",
    "      gamma: (float) The discount factor.\n",
    "      q_network: (tf.keras.Sequential) Keras model for predicting the q_values\n",
    "      target_q_network: (tf.keras.Sequential) Keras model for predicting the targets\n",
    "          \n",
    "    Returns:\n",
    "      loss: (TensorFlow Tensor(shape=(0,), dtype=int32)) the Mean-Squared Error between\n",
    "            the y targets and the Q(s,a) values.\n",
    "    \"\"\"\n",
    "\n",
    "    \n",
    "    # Unpack the mini-batch of experience tuples\n",
    "    states, actions, rewards, next_states, done_vals = experiences\n",
    "    \n",
    "    # Compute max Q^(s,a)\n",
    "    max_qsa = tf.reduce_max(target_q_network(next_states), axis=-1)\n",
    "    \n",
    "    # Set y = R if episode terminates, otherwise set y = R + γ max Q^(s,a).\n",
    "    y_targets = rewards + (gamma * max_qsa * (1 - done_vals))\n",
    "    \n",
    "    # Get the q_values\n",
    "    q_values = q_network(states)\n",
    "    q_values = tf.gather_nd(q_values, tf.stack([tf.range(q_values.shape[0]),\n",
    "                                                tf.cast(actions, tf.int32)], axis=1))\n",
    "    \n",
    "    # Calculate the loss\n",
    "    loss = MSE(y_targets, q_values)\n",
    "    \n",
    "    return loss\n",
    "\n",
    "``` \n",
    "    "
   ]
  },
  {
   "cell_type": "markdown",
   "metadata": {},
   "source": [
    "<a name=\"8\"></a>\n",
    "## 8 - Update the Network Weights\n",
    "\n",
    "We will use the `agent_learn` function below to implement lines ***12 -14*** of the algorithm outlined in [Fig 3](#7). The `agent_learn` function will update the weights of the $Q$ and target $\\hat Q$ networks using a custom training loop. Because we are using a custom training loop we need to retrieve the gradients via a `tf.GradientTape` instance, and then call `optimizer.apply_gradients()` to update the weights of our $Q$-Network. Note that we are also using the `@tf.function` decorator to increase performance. Without this decorator our training will take twice as long. If you would like to know more about how to increase performance with `@tf.function` take a look at the [TensorFlow documentation](https://www.tensorflow.org/guide/function).\n",
    "\n",
    "The last line of this function updates the weights of the target $\\hat Q$-Network using a [soft update](#6.1). If you want to know how this is implemented in code we encourage you to take a look at the `utils.update_target_network` function in the `utils` module."
   ]
  },
  {
   "cell_type": "code",
   "execution_count": 16,
   "metadata": {
    "deletable": false,
    "editable": false
   },
   "outputs": [],
   "source": [
    "@tf.function\n",
    "def agent_learn(experiences, gamma):\n",
    "    \"\"\"\n",
    "    Updates the weights of the Q networks.\n",
    "    \n",
    "    Args:\n",
    "      experiences: (tuple) tuple of [\"state\", \"action\", \"reward\", \"next_state\", \"done\"] namedtuples\n",
    "      gamma: (float) The discount factor.\n",
    "    \n",
    "    \"\"\"\n",
    "    \n",
    "    # Calculate the loss\n",
    "    with tf.GradientTape() as tape:\n",
    "        loss = compute_loss(experiences, gamma, q_network, target_q_network)\n",
    "\n",
    "    # Get the gradients of the loss with respect to the weights.\n",
    "    gradients = tape.gradient(loss, q_network.trainable_variables)\n",
    "    \n",
    "    # Update the weights of the q_network.\n",
    "    optimizer.apply_gradients(zip(gradients, q_network.trainable_variables))\n",
    "\n",
    "    # update the weights of target q_network\n",
    "    utils.update_target_network(q_network, target_q_network)"
   ]
  },
  {
   "cell_type": "markdown",
   "metadata": {},
   "source": [
    "<a name=\"9\"></a>\n",
    "## 9 - Train the Agent\n",
    "\n",
    "We are now ready to train our agent to solve the Lunar Lander environment. In the cell below we will implement the algorithm in [Fig 3](#7) line by line (please note that we have included the same algorithm below for easy reference. This will prevent you from scrolling up and down the notebook):\n",
    "\n",
    "* **Line 1**: We initialize the `memory_buffer` with a capacity of $N =$ `MEMORY_SIZE`. Notice that we are using a `deque` as the data structure for our `memory_buffer`.\n",
    "\n",
    "\n",
    "* **Line 2**: We skip this line since we already initialized the `q_network` in [Exercise 1](#ex01).\n",
    "\n",
    "\n",
    "* **Line 3**: We initialize the `target_q_network` by setting its weights to be equal to those of the `q_network`.\n",
    "\n",
    "\n",
    "* **Line 4**: We start the outer loop. Notice that we have set $M =$ `num_episodes = 2000`. This number is reasonable because the agent should be able to solve the Lunar Lander environment in less than `2000` episodes using this notebook's default parameters.\n",
    "\n",
    "\n",
    "* **Line 5**: We use the `.reset()` method to reset the environment to the initial state and get the initial state.\n",
    "\n",
    "\n",
    "* **Line 6**: We start the inner loop. Notice that we have set $T =$ `max_num_timesteps = 1000`. This means that the episode will automatically terminate if the episode hasn't terminated after `1000` time steps.\n",
    "\n",
    "\n",
    "* **Line 7**: The agent observes the current `state` and chooses an `action` using an $\\epsilon$-greedy policy. Our agent starts out using a value of $\\epsilon =$ `epsilon = 1` which yields an $\\epsilon$-greedy policy that is equivalent to the equiprobable random policy. This means that at the beginning of our training, the agent is just going to take random actions regardless of the observed `state`. As training progresses we will decrease the value of $\\epsilon$ slowly towards a minimum value using a given $\\epsilon$-decay rate. We want this minimum value to be close to zero because a value of $\\epsilon = 0$ will yield an $\\epsilon$-greedy policy that is equivalent to the greedy policy. This means that towards the end of training, the agent will lean towards selecting the `action` that it believes (based on its past experiences) will maximize $Q(s,a)$. We will set the minimum $\\epsilon$ value to be `0.01` and not exactly 0 because we always want to keep a little bit of exploration during training. If you want to know how this is implemented in code we encourage you to take a look at the `utils.get_action` function in the `utils` module.\n",
    "\n",
    "\n",
    "* **Line 8**: We use the `.step()` method to take the given `action` in the environment and get the `reward` and the `next_state`. \n",
    "\n",
    "\n",
    "* **Line 9**: We store the `experience(state, action, reward, next_state, done)` tuple in our `memory_buffer`. Notice that we also store the `done` variable so that we can keep track of when an episode terminates. This allowed us to set the $y$ targets in [Exercise 2](#ex02).\n",
    "\n",
    "\n",
    "* **Line 10**: We check if the conditions are met to perform a learning update. We do this by using our custom `utils.check_update_conditions` function. This function checks if $C =$ `NUM_STEPS_FOR_UPDATE = 4` time steps have occured and if our `memory_buffer` has enough experience tuples to fill a mini-batch. For example, if the mini-batch size is `64`, then our `memory_buffer` should have more than `64` experience tuples in order to pass the latter condition. If the conditions are met, then the `utils.check_update_conditions` function will return a value of `True`, otherwise it will return a value of `False`.\n",
    "\n",
    "\n",
    "* **Lines 11 - 14**: If the `update` variable is `True` then we perform a learning update. The learning update consists of sampling a random mini-batch of experience tuples from our `memory_buffer`, setting the $y$ targets, performing gradient descent, and updating the weights of the networks. We will use the `agent_learn` function we defined in [Section 8](#8) to perform the latter 3.\n",
    "\n",
    "\n",
    "* **Line 15**: At the end of each iteration of the inner loop we set `next_state` as our new `state` so that the loop can start again from this new state. In addition, we check if the episode has reached a terminal state (i.e we check if `done = True`). If a terminal state has been reached, then we break out of the inner loop.\n",
    "\n",
    "\n",
    "* **Line 16**: At the end of each iteration of the outer loop we update the value of $\\epsilon$, and check if the environment has been solved. We consider that the environment has been solved if the agent receives an average of `200` points in the last `100` episodes. If the environment has not been solved we continue the outer loop and start a new episode.\n",
    "\n",
    "Finally, we wanted to note that we have included some extra variables to keep track of the total number of points the agent received in each episode. This will help us determine if the agent has solved the environment and it will also allow us to see how our agent performed during training. We also use the `time` module to measure how long the training takes. \n",
    "\n",
    "<br>\n",
    "<br>\n",
    "<figure>\n",
    "  <img src = \"images/deep_q_algorithm.png\" width = 90% style = \"border: thin silver solid; padding: 0px\">\n",
    "      <figcaption style = \"text-align: center; font-style: italic\">Fig 4. Deep Q-Learning with Experience Replay.</figcaption>\n",
    "</figure>\n",
    "<br>\n",
    "\n",
    "**Note:** With this notebook's default parameters, the following cell takes between 10 to 15 minutes to run. "
   ]
  },
  {
   "cell_type": "code",
   "execution_count": 18,
   "metadata": {
    "deletable": false,
    "editable": false
   },
   "outputs": [
    {
     "name": "stdout",
     "output_type": "stream",
     "text": [
      "Episode 100 | Total point average of the last 100 episodes: -108.36\n",
      "Episode 200 | Total point average of the last 100 episodes: -29.795\n",
      "Episode 300 | Total point average of the last 100 episodes: 55.269\n",
      "Episode 400 | Total point average of the last 100 episodes: 191.55\n",
      "Episode 417 | Total point average of the last 100 episodes: 200.80\n",
      "\n",
      "Environment solved in 417 episodes!\n",
      "\n",
      "Total Runtime: 376.08 s (6.27 min)\n"
     ]
    }
   ],
   "source": [
    "start = time.time()\n",
    "\n",
    "num_episodes = 2000\n",
    "max_num_timesteps = 1000\n",
    "\n",
    "total_point_history = []\n",
    "\n",
    "num_p_av = 100    # number of total points to use for averaging\n",
    "epsilon = 1.0     # initial ε value for ε-greedy policy\n",
    "\n",
    "# Create a memory buffer D with capacity N\n",
    "memory_buffer = deque(maxlen=MEMORY_SIZE)\n",
    "\n",
    "# Set the target network weights equal to the Q-Network weights\n",
    "target_q_network.set_weights(q_network.get_weights())\n",
    "\n",
    "for i in range(num_episodes):\n",
    "    \n",
    "    # Reset the environment to the initial state and get the initial state\n",
    "    state = env.reset()\n",
    "    total_points = 0\n",
    "    \n",
    "    for t in range(max_num_timesteps):\n",
    "        \n",
    "        # From the current state S choose an action A using an ε-greedy policy\n",
    "        state_qn = np.expand_dims(state, axis=0)  # state needs to be the right shape for the q_network\n",
    "        q_values = q_network(state_qn)\n",
    "        action = utils.get_action(q_values, epsilon)\n",
    "        \n",
    "        # Take action A and receive reward R and the next state S'\n",
    "        next_state, reward, done, _ = env.step(action)\n",
    "        \n",
    "        # Store experience tuple (S,A,R,S') in the memory buffer.\n",
    "        # We store the done variable as well for convenience.\n",
    "        memory_buffer.append(experience(state, action, reward, next_state, done))\n",
    "        \n",
    "        # Only update the network every NUM_STEPS_FOR_UPDATE time steps.\n",
    "        update = utils.check_update_conditions(t, NUM_STEPS_FOR_UPDATE, memory_buffer)\n",
    "        \n",
    "        if update:\n",
    "            # Sample random mini-batch of experience tuples (S,A,R,S') from D\n",
    "            experiences = utils.get_experiences(memory_buffer)\n",
    "            \n",
    "            # Set the y targets, perform a gradient descent step,\n",
    "            # and update the network weights.\n",
    "            agent_learn(experiences, GAMMA)\n",
    "        \n",
    "        state = next_state.copy()\n",
    "        total_points += reward\n",
    "        \n",
    "        if done:\n",
    "            break\n",
    "            \n",
    "    total_point_history.append(total_points)\n",
    "    av_latest_points = np.mean(total_point_history[-num_p_av:])\n",
    "    \n",
    "    # Update the ε value\n",
    "    epsilon = utils.get_new_eps(epsilon)\n",
    "\n",
    "    print(f\"\\rEpisode {i+1} | Total point average of the last {num_p_av} episodes: {av_latest_points:.2f}\", end=\"\")\n",
    "\n",
    "    if (i+1) % num_p_av == 0:\n",
    "        print(f\"\\rEpisode {i+1} | Total point average of the last {num_p_av} episodes: {av_latest_points:.2f}\")\n",
    "\n",
    "    # We will consider that the environment is solved if we get an\n",
    "    # average of 200 points in the last 100 episodes.\n",
    "    if av_latest_points >= 200.0:\n",
    "        print(f\"\\n\\nEnvironment solved in {i+1} episodes!\")\n",
    "        q_network.save('lunar_lander_model.h5')\n",
    "        break\n",
    "        \n",
    "tot_time = time.time() - start\n",
    "\n",
    "print(f\"\\nTotal Runtime: {tot_time:.2f} s ({(tot_time/60):.2f} min)\")"
   ]
  },
  {
   "cell_type": "markdown",
   "metadata": {},
   "source": [
    "We can plot the total point history along with the moving average to see how our agent improved during training. If you want to know about the different plotting options available in the `utils.plot_history` function we encourage you to take a look at the `utils` module."
   ]
  },
  {
   "cell_type": "code",
   "execution_count": 19,
   "metadata": {
    "deletable": false,
    "editable": false,
    "id": "E_EUXxurfe8m",
    "scrolled": false
   },
   "outputs": [
    {
     "data": {
      "image/png": "[encoded data removed]",
      "text/plain": [
       "<Figure size 720x504 with 1 Axes>"
      ]
     },
     "metadata": {},
     "output_type": "display_data"
    }
   ],
   "source": [
    "# Plot the total point history along with the moving average\n",
    "utils.plot_history(total_point_history)"
   ]
  },
  {
   "cell_type": "markdown",
   "metadata": {
    "id": "c_xwgaX5MnYt"
   },
   "source": [
    "<a name=\"10\"></a>\n",
    "## 10 - See the Trained Agent In Action\n",
    "\n",
    "Now that we have trained our agent, we can see it in action. We will use the `utils.create_video` function to create a video of our agent interacting with the environment using the trained $Q$-Network. The `utils.create_video` function uses the `imageio` library to create the video. This library produces some warnings that can be distracting, so, to suppress these warnings we run the code below."
   ]
  },
  {
   "cell_type": "code",
   "execution_count": 20,
   "metadata": {
    "deletable": false,
    "editable": false
   },
   "outputs": [],
   "source": [
    "# Suppress warnings from imageio\n",
    "import logging\n",
    "logging.getLogger().setLevel(logging.ERROR)"
   ]
  },
  {
   "cell_type": "markdown",
   "metadata": {},
   "source": [
    "In the cell below we create a video of our agent interacting with the Lunar Lander environment using the trained `q_network`. The video is saved to the `videos` folder with the given `filename`. We use the `utils.embed_mp4` function to embed the video in the Jupyter Notebook so that we can see it here directly without having to download it.\n",
    "\n",
    "We should note that since the lunar lander starts with a random initial force applied to its center of mass, every time you run the cell below you will see a different video. If the agent was trained properly, it should be able to land the lunar lander in the landing pad every time, regardless of the initial force applied to its center of mass."
   ]
  },
  {
   "cell_type": "code",
   "execution_count": 21,
   "metadata": {
    "deletable": false,
    "editable": false,
    "id": "3Ttb_zLeJKiG"
   },
   "outputs": [
    {
     "data": {
      "text/html": [
       "\n",
       "    <video width=\"840\" height=\"480\" controls>\n",
       "    <source src=\"data:video/mp4;base64,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\" type=\"video/mp4\">\n",
       "    Your browser does not support the video tag.\n",
       "    </video>"
      ],
      "text/plain": [
       "<IPython.core.display.HTML object>"
      ]
     },
     "execution_count": 21,
     "metadata": {},
     "output_type": "execute_result"
    }
   ],
   "source": [
    "filename = \"./videos/lunar_lander.mp4\"\n",
    "\n",
    "utils.create_video(filename, env, q_network)\n",
    "utils.embed_mp4(filename)"
   ]
  },
  {
   "cell_type": "markdown",
   "metadata": {},
   "source": [
    "<a name=\"11\"></a>\n",
    "## 11 - Congratulations!\n",
    "\n",
    "You have successfully used Deep Q-Learning with Experience Replay to train an agent to land a lunar lander safely on a landing pad on the surface of the moon. Congratulations!"
   ]
  },
  {
   "cell_type": "markdown",
   "metadata": {},
   "source": [
    "<a name=\"12\"></a>\n",
    "## 12 - References\n",
    "\n",
    "If you would like to learn more about Deep Q-Learning, we recommend you check out the following papers.\n",
    "\n",
    "\n",
    "* Mnih, V., Kavukcuoglu, K., Silver, D. et al. Human-level control through deep reinforcement learning. Nature 518, 529–533 (2015).\n",
    "\n",
    "\n",
    "* Lillicrap, T. P., Hunt, J. J., Pritzel, A., et al. Continuous Control with Deep Reinforcement Learning. ICLR (2016).\n",
    "\n",
    "\n",
    "* Mnih, V., Kavukcuoglu, K., Silver, D. et al. Playing Atari with Deep Reinforcement Learning. arXiv e-prints.  arXiv:1312.5602 (2013)."
   ]
  },
  {
   "cell_type": "markdown",
   "metadata": {},
   "source": [
    "<details>\n",
    "  <summary><font size=\"2\" color=\"darkgreen\"><b>Please click here if you want to experiment with any of the non-graded code.</b></font></summary>\n",
    "    <p><i><b>Important Note: Please only do this when you've already passed the assignment to avoid problems with the autograder.</b></i>\n",
    "    <ol>\n",
    "        <li> On the notebook’s menu, click “View” > “Cell Toolbar” > “Edit Metadata”</li>\n",
    "        <li> Hit the “Edit Metadata” button next to the code cell which you want to lock/unlock</li>\n",
    "        <li> Set the attribute value for “editable” to:\n",
    "            <ul>\n",
    "                <li> “true” if you want to unlock it </li>\n",
    "                <li> “false” if you want to lock it </li>\n",
    "            </ul>\n",
    "        </li>\n",
    "        <li> On the notebook’s menu, click “View” > “Cell Toolbar” > “None” </li>\n",
    "    </ol>\n",
    "    <p> Here's a short demo of how to do the steps above: \n",
    "        <br>\n",
    "        <img src=\"https://lh3.google.com/u/0/d/14Xy_Mb17CZVgzVAgq7NCjMVBvSae3xO1\" align=\"center\" alt=\"unlock_cells.gif\">\n",
    "</details>"
   ]
  }
 ],
 "metadata": {
  "accelerator": "GPU",
  "colab": {
   "collapsed_sections": [],
   "name": "TensorFlow - Lunar Lander.ipynb",
   "provenance": []
  },
  "kernelspec": {
   "display_name": "Python 3",
   "language": "python",
   "name": "python3"
  },
  "language_info": {
   "codemirror_mode": {
    "name": "ipython",
    "version": 3
   },
   "file_extension": ".py",
   "mimetype": "text/x-python",
   "name": "python",
   "nbconvert_exporter": "python",
   "pygments_lexer": "ipython3",
   "version": "3.7.6"
  }
 },
 "nbformat": 4,
 "nbformat_minor": 1
}
